{
 "cells": [
  {
   "cell_type": "code",
   "execution_count": 1,
   "metadata": {},
   "outputs": [],
   "source": [
    "import cv2, numpy, time\n",
    "from imutils.video import WebcamVideoStream, FPS\n",
    "%matplotlib inline\n",
    "import matplotlib as plt\n",
    "import numpy as np\n",
    "import socket\n",
    "import collections\n",
    "from concurrent import futures\n",
    "import random\n",
    "import serial\n",
    "\n",
    "def nothing(x):\n",
    "    pass\n",
    "def take_first(l):\n",
    "    return l[0]\n",
    "def pipe_test(pipe):\n",
    "    while True:\n",
    "        pipe.appendleft(random.randint(0, 7))\n",
    "        time.sleep(1)\n",
    "        \n",
    "def x_2_sec(x):\n",
    "    return (10.8 - (x*0.01125))*0.25\n",
    "        \n",
    "class Empty():\n",
    "    pass\n",
    "\n",
    "def pipe_pusher(pipe):\n",
    "    print(\"Hello from pipepusher :-)\")\n",
    "    while True:\n",
    "        bc = pipe.pop()\n",
    "        #so.sendto(\"set {}\".format(bc).encode(), (\"192.168.178.21\", 50006))\n",
    "        sst.goto_box(bc)\n",
    "        pipe.appendleft(4)\n",
    "        time.sleep(0.1)\n",
    "def draw_pipe(pipe):\n",
    "    im = np.zeros((8000, 200, 3), np.uint8)\n",
    "    font = cv2.FONT_HERSHEY_SIMPLEX\n",
    "    for i, p in enumerate(list(pipe)):\n",
    "        cv2.putText(im,str(p),(4,20*i), font, 1,(0,255,0),1,cv2.LINE_AA)\n",
    "    cv2.imshow(\"pipe\", im)\n",
    "    \n",
    "    \n",
    "#[color_index, \"color_name\", [under_hsv], [upper_hsv], \"color_mode\"]\n",
    "hsvcolors = [\n",
    "    [0, \"Red\", np.array((150, 0, 0)), np.array((200, 255, 255)), \"HSV\"],\n",
    "    [0, \"Red1\", np.array((0, 0, 0)), np.array((1, 255, 255)), \"HSV\"],\n",
    "    [1, \"Green\", np.array((50, 0, 0)), np.array((100, 255, 255)), \"HSV\"],\n",
    "    [2, \"Blue\", np.array((100, 0, 0)), np.array((150, 255, 255)), \"HSV\"],\n",
    "    [3, \"Yellow\", np.array((20, 0, 0)), np.array((30, 255, 255)), \"HSV\"],\n",
    "    [4, \"White\", np.array((255, 255, 255)), np.array((255, 255, 255)), \"BGR\"],\n",
    "    [5, \"Orange\", np.array((9, 0, 0)), np.array((13, 255, 255)), \"HSV\"],\n",
    "    [6, \"Black\", np.array((10, 10, 10)), np.array((55, 55, 55)), \"BGR\"],\n",
    "    [7, \"LightGray\", np.array((140, 140, 140)), np.array((180, 180, 180)), \"BGR\"],\n",
    "    [8, \"DarkGray\", np.array((40, 40, 40)), np.array((130, 130, 130)), \"BGR\"],\n",
    "]\n",
    "under_conveyor = numpy.array([140, 160, 155])\n",
    "upper_conveyor = numpy.array([255, 255, 255])\n",
    "DELAY_OFFSET_BEFORE = 1#in seconds, when positive, slide will turn earlier\n",
    "DELAY_OFFSET_AFTER = 0#in seconds, when positive, slide will stay longer\n",
    "DELAY_PER_BOX = 0.078125\n",
    "def find_out_color(img):\n",
    "    cv2.imshow(\"Brick BGR\", img)\n",
    "    #print(img.shape)\n",
    "    hsv = cv2.cvtColor(img, cv2.COLOR_BGR2HSV)\n",
    "    cv2.imshow(\"Brick HSV\", hsv)\n",
    "    px_cnt = img.shape[0]*img.shape[1]\n",
    "    scores = np.array([])\n",
    "    conv = cv2.inRange(img, under_conveyor, upper_conveyor)\n",
    "    for color_index, color_name, under_hls, upper_hls, color_mode in hsvcolors:\n",
    "        ir = (cv2.inRange(hsv, under_hls, upper_hls) if color_mode==\"HSV\" else cv2.inRange(img, under_hls, upper_hls))\n",
    "        ir = cv2.bitwise_and(cv2.bitwise_not(conv), ir)\n",
    "        cv2.imshow(color_name, ir)\n",
    "        cnz = cv2.countNonZero(ir)\n",
    "        #print(color_name, round(cnz/px_cnt*100, 2), \"%\")\n",
    "        scores = np.append(scores, cnz/px_cnt*100)\n",
    "    r = hsvcolors[np.argmax(scores)].copy()\n",
    "    r.append(np.max(scores))\n",
    "    #print(r)\n",
    "    return r\n",
    "def found_brick(color_number, x, y, w, h):\n",
    "    front_x = x+w\n",
    "    remain_px = 933-front_x\n",
    "    remain_sec = remain_px / 142\n",
    "    cmd = \"set {color} {delay}\".format(color = color_number, delay = remain_sec - DELAY_OFFSET_SEC)\n",
    "    print(\"sending: \", cmd)\n",
    "    so.sendto(cmd.encode(), (\"192.168.178.21\", 50006))\n",
    "    \n",
    "class serial_slideturner():\n",
    "    def __init__(self, num_boxes, comport = \"COM4\"):\n",
    "        self.num_boxes = num_boxes\n",
    "        if num_boxes < 1:\n",
    "            raise ValueError(\"You must init at least one box\")\n",
    "        self.comport = comport\n",
    "        self.ser = serial.Serial(self.comport)\n",
    "    def calc_angle(self, box, verbose=True):#box is from 0 to self.num_boxes-1\n",
    "        angle = 180/self.num_boxes * (box+0.5)\n",
    "        return angle\n",
    "    def goto_box(self, box, really_delay=0, verbose=False, delay=0):\n",
    "        if box > self.num_boxes or box < 0:\n",
    "            return False\n",
    "        if delay:\n",
    "            self.thread = Thread(target=self.goto_box, args=(box, delay))\n",
    "            self.thread.start()\n",
    "            return\n",
    "        if really_delay:\n",
    "            time.sleep(really_delay)\n",
    "        self.box = box\n",
    "        angle = self.calc_angle(box, verbose=verbose)\n",
    "        if angle==10:\n",
    "            angle += 2\n",
    "        #msg = \"set {}\\n\".format(int(angle)).encode()\n",
    "        msg = chr(int(angle)).encode()\n",
    "        ####print(msg)\n",
    "        self.ser.write(msg)\n",
    "        #self.ser.close()"
   ]
  },
  {
   "cell_type": "code",
   "execution_count": null,
   "metadata": {},
   "outputs": [
    {
     "name": "stdout",
     "output_type": "stream",
     "text": [
      "found new brick! Yellow\n",
      "found new brick! Red\n",
      "found new brick! Black\n",
      "found new brick! Blue\n",
      "found new brick! Blue\n",
      "found new brick! Blue\n",
      "found new brick! Blue\n",
      "found new brick! Blue\n",
      "found new brick! Yellow\n",
      "found new brick! Green\n",
      "found new brick! Yellow\n",
      "found new brick! Yellow\n",
      "found new brick! Blue\n",
      "found new brick! Blue\n",
      "found new brick! Orange\n",
      "found new brick! Yellow\n",
      "found new brick! Orange\n",
      "found new brick! Green\n",
      "found new brick! Green\n",
      "found new brick! Blue\n",
      "found new brick! Yellow\n",
      "found new brick! Blue\n",
      "found new brick! Yellow\n",
      "found new brick! Black\n",
      "found new brick! LightGray\n",
      "found new brick! Green\n",
      "found new brick! Green\n"
     ]
    }
   ],
   "source": [
    "cap = cv2.VideoCapture(0)\n",
    "cv2.namedWindow('thresh')\n",
    "cv2.createTrackbar('T','thresh',0,255,nothing)\n",
    "newest_brick = -1\n",
    "newest_x = 10000\n",
    "brick_colors = {-1: hsvcolors[5]+[100], 0: hsvcolors[5]+[100], 1: hsvcolors[5]+[100]}\n",
    "for i in range(10000000):\n",
    "    r = False\n",
    "    while not r:\n",
    "        r, fr = cap.read()\n",
    "    cv2.imshow(\"input\", fr)\n",
    "    fr_orig = fr.copy()\n",
    "    conv = cv2.inRange(fr, under_conveyor, upper_conveyor)\n",
    "    cv2.imshow(\"conv\", conv)\n",
    "    imgray = cv2.cvtColor(fr,cv2.COLOR_BGR2GRAY)\n",
    "    ret,thresh = cv2.threshold(imgray,cv2.getTrackbarPos('T','thresh'),255,cv2.THRESH_BINARY)\n",
    "    cv2.imshow(\"thresh\", thresh)\n",
    "    not_conv = cv2.bitwise_not(conv)\n",
    "    cv2.imshow(\"not_conv\", not_conv)\n",
    "    im2, contours, hierarchy = cv2.findContours(not_conv,cv2.RETR_TREE,cv2.CHAIN_APPROX_SIMPLE)\n",
    "    real_contours = []\n",
    "    real_minareas = []\n",
    "    for cnt in contours:\n",
    "        x,y,w,h = cv2.boundingRect(cnt)\n",
    "        if x == y == 0:#whole pic as contour\n",
    "            continue\n",
    "        elif w < 40 or h < 40:\n",
    "            continue\n",
    "        elif (w < 100 or h < 100) and x < 10:\n",
    "            continue\n",
    "        elif w > 600 and h > 400:\n",
    "            continue\n",
    "        elif sum(cv2.mean(fr[x:x+w, y:y+h])) > 700:\n",
    "            continue\n",
    "        mx = x + (w/2)\n",
    "        my = y + (h/2)\n",
    "        real_contours.append([x, y, w, h, mx, my])\n",
    "    real_contours.sort(key=take_first)\n",
    "    i = 0\n",
    "    for x, y, w, h, mx, my in real_contours:\n",
    "        brickindex = newest_brick - i\n",
    "        if x < (newest_x - 48):\n",
    "            newest_brick += 1\n",
    "            brick_colors[newest_brick] = find_out_color(fr_orig[y:y+h, x:x+w])\n",
    "            print(\"found new brick!\", brick_colors[newest_brick][1])\n",
    "            #print(\"Area: \", mar[1][0]*mar[1][1])\n",
    "            #found_brick(brick_colors[newest_brick][0], x, y, w, h)\n",
    "        ####brick_colors[brickindex] = find_out_color(fr_orig[y:y+h, x:x+w])\n",
    "        if x>1 and x+w<620:\n",
    "            p_fall = x_2_sec(x+(w/2)) + 0.2\n",
    "            #print(p_fall)\n",
    "            sec2 = p_fall - DELAY_OFFSET_BEFORE\n",
    "            #print(brick_colors[brickindex])\n",
    "            try:\n",
    "                bc = brick_colors[brickindex][0]\n",
    "            except:\n",
    "                bc = 4\n",
    "            sec1 = p_fall + DELAY_OFFSET_AFTER + (abs(4-bc)*DELAY_PER_BOX)\n",
    "            i1 = int(round((10-sec1)*10, 0))\n",
    "            i2 = int(round((10-sec2)*10, 0))\n",
    "            #print((i2-i1)*0.16103)#length of brick in cm\n",
    "            #print(i1, i2)\n",
    "            for inn in range(i1, i2):\n",
    "                pipe[inn] = brick_colors[brickindex][0]\n",
    "        i += 1\n",
    "        cv2.rectangle(fr, (x, y), (x+w, y+h), (0,0,0), 2)\n",
    "        font = cv2.FONT_HERSHEY_SIMPLEX\n",
    "        cv2.putText(fr,str(brickindex)+\" \"+str(brick_colors[brickindex][1])+\" \"+str(round(brick_colors[brickindex][5], 2))+\"%\",(x,y+64), font, 1,(0,0,0),2,cv2.LINE_AA)\n",
    "    if real_contours:\n",
    "        #print(len(contours), \"\\t\", len(real_contours))\n",
    "        newest_x = real_contours[0][0]\n",
    "    cv2.line(fr,(newest_x,0),(newest_x,100),(255,0,0),5)\n",
    "        \n",
    "    cv2.imshow(\"output\", fr)\n",
    "    \n",
    "    draw_pipe(pipe)\n",
    "    \n",
    "    key = cv2.waitKey(1) & 0xFF\n",
    "    if key == ord(\"q\"):\n",
    "        break\n",
    "cap.release()"
   ]
  },
  {
   "cell_type": "code",
   "execution_count": null,
   "metadata": {},
   "outputs": [],
   "source": [
    "brick_colors"
   ]
  },
  {
   "cell_type": "code",
   "execution_count": null,
   "metadata": {},
   "outputs": [],
   "source": [
    "brickindex"
   ]
  },
  {
   "cell_type": "code",
   "execution_count": null,
   "metadata": {},
   "outputs": [],
   "source": [
    "cap.release()\n"
   ]
  },
  {
   "cell_type": "code",
   "execution_count": 2,
   "metadata": {},
   "outputs": [
    {
     "name": "stdout",
     "output_type": "stream",
     "text": [
      "Hello from pipepusher :-)\n"
     ]
    }
   ],
   "source": [
    "sst = serial_slideturner(9, comport=\"COM3\")\n",
    "sst.goto_box(4)\n",
    "pipe = collections.deque([-1]*100, maxlen=100)\n",
    "executor = futures.ThreadPoolExecutor(max_workers=10)\n",
    "n = executor.submit(pipe_pusher, pipe)"
   ]
  },
  {
   "cell_type": "code",
   "execution_count": null,
   "metadata": {},
   "outputs": [],
   "source": [
    "n.result()"
   ]
  },
  {
   "cell_type": "code",
   "execution_count": 19,
   "metadata": {},
   "outputs": [
    {
     "data": {
      "text/plain": [
       "<Future at 0x1b8b9e2da58 state=running>"
      ]
     },
     "execution_count": 19,
     "metadata": {},
     "output_type": "execute_result"
    },
    {
     "name": "stdout",
     "output_type": "stream",
     "text": [
      "b'Z'\n",
      "b'Z'\n",
      "b'Z'"
     ]
    }
   ],
   "source": [
    "n"
   ]
  },
  {
   "cell_type": "code",
   "execution_count": 17,
   "metadata": {},
   "outputs": [
    {
     "name": "stdout",
     "output_type": "stream",
     "text": [
      "b'Z'\n"
     ]
    }
   ],
   "source": [
    "sst.goto_box(4)"
   ]
  },
  {
   "cell_type": "code",
   "execution_count": 13,
   "metadata": {},
   "outputs": [],
   "source": [
    "sst.ser.close()"
   ]
  },
  {
   "cell_type": "code",
   "execution_count": 12,
   "metadata": {},
   "outputs": [
    {
     "data": {
      "text/plain": [
       "b''"
      ]
     },
     "execution_count": 12,
     "metadata": {},
     "output_type": "execute_result"
    }
   ],
   "source": [
    "sst.ser.read_all()"
   ]
  },
  {
   "cell_type": "code",
   "execution_count": 4,
   "metadata": {},
   "outputs": [
    {
     "data": {
      "text/plain": [
       "11"
      ]
     },
     "execution_count": 4,
     "metadata": {},
     "output_type": "execute_result"
    }
   ],
   "source": [
    "so = socket.socket(socket.AF_INET, socket.SOCK_DGRAM)\n",
    "so.sendto(\"num_boxes 9\".encode(), (\"192.168.178.21\", 50006))"
   ]
  },
  {
   "cell_type": "code",
   "execution_count": 7,
   "metadata": {},
   "outputs": [
    {
     "ename": "KeyboardInterrupt",
     "evalue": "",
     "output_type": "error",
     "traceback": [
      "\u001b[1;31m---------------------------------------------------------------------------\u001b[0m",
      "\u001b[1;31mKeyboardInterrupt\u001b[0m                         Traceback (most recent call last)",
      "\u001b[1;32m<ipython-input-7-edf2e0706e7d>\u001b[0m in \u001b[0;36m<module>\u001b[1;34m()\u001b[0m\n\u001b[0;32m      2\u001b[0m     \u001b[1;32mfor\u001b[0m \u001b[0mb\u001b[0m \u001b[1;32min\u001b[0m \u001b[0mrange\u001b[0m\u001b[1;33m(\u001b[0m\u001b[1;36m9\u001b[0m\u001b[1;33m)\u001b[0m\u001b[1;33m:\u001b[0m\u001b[1;33m\u001b[0m\u001b[0m\n\u001b[0;32m      3\u001b[0m         \u001b[0mso\u001b[0m\u001b[1;33m.\u001b[0m\u001b[0msendto\u001b[0m\u001b[1;33m(\u001b[0m\u001b[1;34m\"set {}\"\u001b[0m\u001b[1;33m.\u001b[0m\u001b[0mformat\u001b[0m\u001b[1;33m(\u001b[0m\u001b[0mb\u001b[0m\u001b[1;33m)\u001b[0m\u001b[1;33m.\u001b[0m\u001b[0mencode\u001b[0m\u001b[1;33m(\u001b[0m\u001b[1;33m)\u001b[0m\u001b[1;33m,\u001b[0m \u001b[1;33m(\u001b[0m\u001b[1;34m\"192.168.178.21\"\u001b[0m\u001b[1;33m,\u001b[0m \u001b[1;36m50006\u001b[0m\u001b[1;33m)\u001b[0m\u001b[1;33m)\u001b[0m\u001b[1;33m\u001b[0m\u001b[0m\n\u001b[1;32m----> 4\u001b[1;33m         \u001b[0mtime\u001b[0m\u001b[1;33m.\u001b[0m\u001b[0msleep\u001b[0m\u001b[1;33m(\u001b[0m\u001b[1;36m2\u001b[0m\u001b[1;33m)\u001b[0m\u001b[1;33m\u001b[0m\u001b[0m\n\u001b[0m",
      "\u001b[1;31mKeyboardInterrupt\u001b[0m: "
     ]
    }
   ],
   "source": [
    "while 1:\n",
    "    for b in range(9):\n",
    "        so.sendto(\"set {}\".format(b).encode(), (\"192.168.178.21\", 50006))\n",
    "        time.sleep(2)"
   ]
  },
  {
   "cell_type": "code",
   "execution_count": 5,
   "metadata": {
    "scrolled": true
   },
   "outputs": [
    {
     "data": {
      "text/plain": [
       "5"
      ]
     },
     "execution_count": 5,
     "metadata": {},
     "output_type": "execute_result"
    }
   ],
   "source": [
    "so.sendto(\"set 3\".encode(), (\"192.168.178.21\", 50006))"
   ]
  }
 ],
 "metadata": {
  "kernelspec": {
   "display_name": "Python 3",
   "language": "python",
   "name": "python3"
  },
  "language_info": {
   "codemirror_mode": {
    "name": "ipython",
    "version": 3
   },
   "file_extension": ".py",
   "mimetype": "text/x-python",
   "name": "python",
   "nbconvert_exporter": "python",
   "pygments_lexer": "ipython3",
   "version": "3.6.2"
  }
 },
 "nbformat": 4,
 "nbformat_minor": 2
}
