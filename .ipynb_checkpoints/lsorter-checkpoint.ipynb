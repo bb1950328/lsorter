{
 "cells": [
  {
   "cell_type": "code",
   "execution_count": null,
   "metadata": {
    "collapsed": true
   },
   "outputs": [],
   "source": [
    "class slide():\n",
    "    def __init__(self, num_boxes, min_servo=675, max_servo=1350):\n",
    "        self.num_boxes = num_boxes\n",
    "        self.min_servo, self.max_servo = min_servo, max_servo\n",
    "    def calc_pulse(self, box):#box is from 0 to self.num_boxes-1\n",
    "        "
   ]
  }
 ],
 "metadata": {
  "kernelspec": {
   "display_name": "Python 3",
   "language": "python",
   "name": "python3"
  },
  "language_info": {
   "codemirror_mode": {
    "name": "ipython",
    "version": 3
   },
   "file_extension": ".py",
   "mimetype": "text/x-python",
   "name": "python",
   "nbconvert_exporter": "python",
   "pygments_lexer": "ipython3",
   "version": "3.6.2"
  }
 },
 "nbformat": 4,
 "nbformat_minor": 2
}
