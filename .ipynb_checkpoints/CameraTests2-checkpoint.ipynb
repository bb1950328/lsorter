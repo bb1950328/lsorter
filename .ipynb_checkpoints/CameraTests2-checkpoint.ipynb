{
 "cells": [
  {
   "cell_type": "code",
   "execution_count": 1,
   "metadata": {
    "collapsed": true
   },
   "outputs": [],
   "source": [
    "import cv2, numpy, time\n",
    "from imutils.video import WebcamVideoStream, FPS\n",
    "%matplotlib inline\n",
    "import matplotlib as plt\n",
    "import numpy as np\n",
    "\n",
    "def nothing(x):\n",
    "    pass\n",
    "def take_first(l):\n",
    "    return l[0]"
   ]
  },
  {
   "cell_type": "code",
   "execution_count": 49,
   "metadata": {},
   "outputs": [],
   "source": [
    "#[color_index, \"color_name\", [under_hsv], [upper_hsv]]\n",
    "hsvcolors = [\n",
    "    [0, \"Red\", np.array((150, 0, 0)), np.array((200, 255, 255))],\n",
    "    [1, \"Green\", np.array((0, 0, 0)), np.array((255, 255, 255))]\n",
    "]\n",
    "def find_out_color(img):\n",
    "    cv2.imshow(\"Brick BGR\", img)\n",
    "    print(img.shape)\n",
    "    hsv = cv2.cvtColor(img, cv2.COLOR_BGR2HSV)\n",
    "    cv2.imshow(\"Brick HSV\", hsv)\n",
    "    px_cnt = img.shape[0]*img.shape[1]\n",
    "    for color_index, color_name, under_hls, upper_hls in hsvcolors:\n",
    "        ir = cv2.inRange(hsv, under_hls, upper_hls)\n",
    "        cv2.imshow(color_name, ir)\n",
    "        cnz = cv2.countNonZero(ir)\n",
    "        print(color_name, round(cnz/px_cnt*100, 2), \"%\")"
   ]
  },
  {
   "cell_type": "code",
   "execution_count": null,
   "metadata": {},
   "outputs": [
    {
     "name": "stdout",
     "output_type": "stream",
     "text": [
      "found new brick! (237, 205)\n",
      "(205, 237, 3)\n",
      "Red 24.76 %\n",
      "Green 100.0 %\n"
     ]
    }
   ],
   "source": [
    "cap = cv2.VideoCapture(0)\n",
    "cv2.namedWindow('thresh')\n",
    "cv2.createTrackbar('T','thresh',0,255,nothing)\n",
    "newest_brick = 0\n",
    "newest_x = 10000\n",
    "brick_colors = {}\n",
    "for i in range(10000000):\n",
    "    r = False\n",
    "    while not r:\n",
    "        r, fr = cap.read()\n",
    "    cv2.imshow(\"input\", fr)\n",
    "    fr_orig = fr.copy()\n",
    "    \n",
    "    under_conveyor = numpy.array([150, 140, 140])\n",
    "    upper_conveyor = numpy.array([255, 255, 255])\n",
    "    conv = cv2.inRange(fr, under_conveyor, upper_conveyor)\n",
    "    cv2.imshow(\"conv\", conv)\n",
    "    \n",
    "    \n",
    "    \n",
    "    imgray = cv2.cvtColor(fr,cv2.COLOR_BGR2GRAY)\n",
    "    ret,thresh = cv2.threshold(imgray,cv2.getTrackbarPos('T','thresh'),255,cv2.THRESH_BINARY)\n",
    "    cv2.imshow(\"thresh\", thresh)\n",
    "    \n",
    "    not_conv = cv2.bitwise_not(conv)\n",
    "    \n",
    "    \n",
    "    \n",
    "    cv2.imshow(\"not_conv\", not_conv)\n",
    "    \n",
    "    im2, contours, hierarchy = cv2.findContours(not_conv,cv2.RETR_TREE,cv2.CHAIN_APPROX_SIMPLE)\n",
    "    #print(hierarchy)\n",
    "    real_contours = []\n",
    "    for cnt in contours:\n",
    "        x,y,w,h = cv2.boundingRect(cnt)\n",
    "        if x == y == 0:#whole pic as contour\n",
    "            continue\n",
    "        elif w < 200 or h < 200:\n",
    "            continue\n",
    "        elif w > 600 and h > 400:\n",
    "            continue\n",
    "        elif sum(cv2.mean(fr[x:x+w, y:y+h])) > 700:\n",
    "            continue\n",
    "        #cv2.rectangle(fr, (x, y), (x+w, y+h), (255,0,0), 2)\n",
    "        mx = x + (w/2)\n",
    "        my = y + (h/2)\n",
    "        real_contours.append([x, y, w, h, mx, my])\n",
    "    real_contours.sort(key=take_first)\n",
    "    \n",
    "    for x, y, w, h, mx, my in real_contours:\n",
    "        if x < (newest_x - 32):\n",
    "            print(\"found new brick!\", (w, h))\n",
    "            newest_brick += 1\n",
    "            brick_colors[newest_brick] = find_out_color(fr_orig[y:y+h, x:x+w])\n",
    "            \n",
    "            \n",
    "        cv2.rectangle(fr, (x, y), (x+w, y+h), (0,0,0), 2)\n",
    "        \"\"\"for i1, n1 in enumerate(real_contours):\n",
    "        x1, y1, w1, h1, mx1, my1 = n1\n",
    "        for i2, n2 in enumerate(real_contours):\n",
    "            x2, y2, w2, h2, mx2, my2 = n2\"\"\"\n",
    "        font = cv2.FONT_HERSHEY_SIMPLEX\n",
    "        cv2.putText(fr,str(newest_brick),(x,y+64), font, 3,(0,0,0),2,cv2.LINE_AA)\n",
    "    if real_contours:\n",
    "        #print(len(contours), \"\\t\", len(real_contours))\n",
    "        newest_x = real_contours[0][0]\n",
    "    cv2.line(fr,(newest_x,0),(newest_x,100),(255,0,0),5)\n",
    "        \n",
    "    cv2.imshow(\"output\", fr)\n",
    "    \n",
    "    key = cv2.waitKey(1) & 0xFF\n",
    "    if key == ord(\"q\"):\n",
    "        break\n",
    "cap.release()"
   ]
  },
  {
   "cell_type": "code",
   "execution_count": 4,
   "metadata": {},
   "outputs": [],
   "source": [
    "cap.release()\n"
   ]
  }
 ],
 "metadata": {
  "kernelspec": {
   "display_name": "Python 3",
   "language": "python",
   "name": "python3"
  },
  "language_info": {
   "codemirror_mode": {
    "name": "ipython",
    "version": 3
   },
   "file_extension": ".py",
   "mimetype": "text/x-python",
   "name": "python",
   "nbconvert_exporter": "python",
   "pygments_lexer": "ipython3",
   "version": "3.6.2"
  }
 },
 "nbformat": 4,
 "nbformat_minor": 2
}
