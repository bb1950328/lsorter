{
 "cells": [
  {
   "cell_type": "raw",
   "metadata": {},
   "source": [
    "0. CV_CAP_PROP_POS_MSEC Current position of the video file in milliseconds.\n",
    "1. CV_CAP_PROP_POS_FRAMES 0-based index of the frame to be decoded/captured next.\n",
    "2. CV_CAP_PROP_POS_AVI_RATIO Relative position of the video file\n",
    "3. CV_CAP_PROP_FRAME_WIDTH Width of the frames in the video stream.\n",
    "4. CV_CAP_PROP_FRAME_HEIGHT Height of the frames in the video stream.\n",
    "5. CV_CAP_PROP_FPS Frame rate.\n",
    "6. CV_CAP_PROP_FOURCC 4-character code of codec.\n",
    "7. CV_CAP_PROP_FRAME_COUNT Number of frames in the video file.\n",
    "8. CV_CAP_PROP_FORMAT Format of the Mat objects returned by retrieve() .\n",
    "9. CV_CAP_PROP_MODE Backend-specific value indicating the current capture mode.\n",
    "10. CV_CAP_PROP_BRIGHTNESS Brightness of the image (only for cameras).\n",
    "11. CV_CAP_PROP_CONTRAST Contrast of the image (only for cameras).\n",
    "12. CV_CAP_PROP_SATURATION Saturation of the image (only for cameras).\n",
    "13. CV_CAP_PROP_HUE Hue of the image (only for cameras).\n",
    "14. CV_CAP_PROP_GAIN Gain of the image (only for cameras).\n",
    "15. CV_CAP_PROP_EXPOSURE Exposure (only for cameras).\n",
    "16. CV_CAP_PROP_CONVERT_RGB Boolean flags indicating whether images should be converted to RGB.\n",
    "17. CV_CAP_PROP_WHITE_BALANCE Currently unsupported\n",
    "18. CV_CAP_PROP_RECTIFICATION Rectification flag for stereo cameras (note: only supported by DC1394 v 2.x backend currently)"
   ]
  },
  {
   "cell_type": "code",
   "execution_count": 2,
   "metadata": {
    "collapsed": true
   },
   "outputs": [],
   "source": [
    "import cv2, numpy, time\n",
    "from imutils.video import WebcamVideoStream, FPS\n",
    "%matplotlib inline\n",
    "import matplotlib as plt"
   ]
  },
  {
   "cell_type": "code",
   "execution_count": 3,
   "metadata": {
    "collapsed": true
   },
   "outputs": [],
   "source": [
    "class Brick():\n",
    "    def __init__(self, color=None, part_id=None, p_fall1=None, p_fall2=None, img = None):\n",
    "        self.color = color\n",
    "        self.part_id = part_id\n",
    "        self.p_fall1 = p_fall1\n",
    "        self.p_fall2 = p_fall2\n",
    "        self.p_length = p_fall1 - p_fall2\n",
    "        self.img = img\n",
    "white_img = numpy.full((480, 640, 3), 255)\n",
    "min_white = numpy.array([170, 170, 160])\n",
    "white_px = numpy.array([255, 255, 255])\n",
    "def conveyor_to_white(inp):\n",
    "    sh = inp.shape\n",
    "    for x in range(sh[1]):\n",
    "        for y in range(sh[0]):\n",
    "            if numpy.all(inp[y, x] >= min_white):\n",
    "                inp[y, x] = white_px\n",
    "    return inp\n",
    "def conveyor_to_white2(inp):\n",
    "    conb = inp[:, :, 0] > 160\n",
    "    cong = inp[:, :, 1] > 170\n",
    "    conr = inp[:, :, 2] > 170\n",
    "    con = numpy.zeros((480, 640))\n",
    "    con[conb] += 1\n",
    "    con[cong] += 1\n",
    "    con[conr] += 1\n",
    "    inp[con[:, :] == 3] = [255, 255, 255]\n",
    "    return inp\n",
    "\n",
    "def auto_crop(inp):\n",
    "    sh = inp.shape\n",
    "    mask = img == [255, 255, 255]\n",
    "    xs = []\n",
    "    ys = []\n",
    "    for x in range(sh[1]):\n",
    "        if numpy.all(mask[:, x]):\n",
    "            xs.append(x)\n",
    "    \n",
    "    for y in range(sh[0]):\n",
    "        if numpy.all(mask[y, :]):\n",
    "            ys.append(y)\n",
    "    if not (xs or ys):\n",
    "        return False, False\n",
    "    x1 = min(xs)\n",
    "    x2 = max(xs)\n",
    "    y1 = min(ys)\n",
    "    y2 = max(ys)\n",
    "    print(x1, x2, \"\\t\", y1, y2)\n",
    "    return inp[x1:x2, y1:y2], (x1, x2, y1, y2)\n",
    "def auto_crop2(img):\n",
    "    mask = img == [255, 255, 255]\n",
    "    return img[numpy.ix_(mask.any(1),mask.any(0))]\n",
    "\n",
    "def check_on_brick(inp):\n",
    "    cr, a = auto_crop2(inp)\n",
    "    if not a:\n",
    "        return False\n",
    "    x1, x2, y1, y2 = a\n",
    "    h, w, d = inp.shape\n",
    "    print(a)\n",
    "    if h/6 < x1:#linker rand\n",
    "        if h - (h/6) > x2:#rechter rand\n",
    "            if y1 > 5 and h-y1 > 5:\n",
    "                return cr\n",
    "    return False\n"
   ]
  },
  {
   "cell_type": "code",
   "execution_count": 5,
   "metadata": {
    "collapsed": true
   },
   "outputs": [],
   "source": [
    "vstream = WebcamVideoStream(src=0).start()"
   ]
  },
  {
   "cell_type": "code",
   "execution_count": 6,
   "metadata": {},
   "outputs": [
    {
     "name": "stdout",
     "output_type": "stream",
     "text": [
      "17.059317539032264 0.03411863507806453\n"
     ]
    }
   ],
   "source": [
    "frames = []\n",
    "n = 500\n",
    "start = time.perf_counter()\n",
    "for i in range(n):\n",
    "    frames.append(vstream.read())\n",
    "    time.sleep(1/30)\n",
    "stop = time.perf_counter()\n",
    "print(stop-start, (stop-start)/n)"
   ]
  },
  {
   "cell_type": "code",
   "execution_count": null,
   "metadata": {},
   "outputs": [
    {
     "name": "stdout",
     "output_type": "stream",
     "text": [
      "0\n",
      "100\n",
      "200\n",
      "300\n",
      "400\n",
      "500\n",
      "600\n",
      "700\n",
      "800\n",
      "900\n",
      "1000\n"
     ]
    }
   ],
   "source": [
    "cap = cv2.VideoCapture(0)\n",
    "out = cv2.VideoWriter('output_test4.avi',cv2.VideoWriter_fourcc('M','J','P','G'), 30, (640, 480))\n",
    "inp = cv2.VideoCapture()\n",
    "inp.open('output_test3.avi')\n",
    "#cap.set(cv2.CAP_PROP_SETTINGS, 0)\n",
    "cap.set(cv2.CAP_PROP_WHITE_BALANCE_BLUE_U, 2700)\n",
    "cap.set(cv2.CAP_PROP_WHITE_BALANCE_RED_V, 2700)\n",
    "cap.set(cv2.CAP_PROP_BRIGHTNESS, 1)\n",
    "cap.set(cv2.CAP_PROP_EXPOSURE, -11)\n",
    "#time.sleep(20)\n",
    "coss = []\n",
    "for f in range(1500):\n",
    "    if f % 100 == 0:\n",
    "        print(f)\n",
    "    ret, fr = cap.read()\n",
    "    if ret:\n",
    "        #print(fr.shape)\n",
    "        #\n",
    "        fr = conveyor_to_white2(fr)\n",
    "        \"\"\"co = check_on_brick(fr)\n",
    "        if co:\n",
    "            coss.append(co)\n",
    "            plt.pyplot.imshow(co)\n",
    "        #\"\"\"\n",
    "        imgray = cv2.cvtColor(fr,cv2.COLOR_BGR2GRAY)\n",
    "        ret,thresh = cv2.threshold(imgray,230,255,0)\n",
    "        im2, contours, hierarchy = cv2.findContours(thresh,cv2.RETR_TREE,cv2.CHAIN_APPROX_NONE)\n",
    "        out.write(fr)\n",
    "        for cnt in contours:\n",
    "            x,y,w,h = cv2.boundingRect(cnt)\n",
    "            if x == y == 0:\n",
    "                continue\n",
    "            elif w < 16 or h < 16:\n",
    "                continue\n",
    "            cv2.rectangle(fr, (x, y), (x+w, y+h), (255,0,0), 2)\n",
    "        #out.write(fr)\n",
    "        #time.sleep(0.033333333333333)\n",
    "    else:\n",
    "        print(ret)\n",
    "plt.pyplot.imshow(fr)\n",
    "out.release()\n",
    "cap.release()"
   ]
  },
  {
   "cell_type": "code",
   "execution_count": 4,
   "metadata": {},
   "outputs": [
    {
     "ename": "IndexError",
     "evalue": "list index out of range",
     "output_type": "error",
     "traceback": [
      "\u001b[1;31m---------------------------------------------------------------------------\u001b[0m",
      "\u001b[1;31mIndexError\u001b[0m                                Traceback (most recent call last)",
      "\u001b[1;32m<ipython-input-4-229963d8e885>\u001b[0m in \u001b[0;36m<module>\u001b[1;34m()\u001b[0m\n\u001b[1;32m----> 1\u001b[1;33m \u001b[0mplt\u001b[0m\u001b[1;33m.\u001b[0m\u001b[0mpyplot\u001b[0m\u001b[1;33m.\u001b[0m\u001b[0mimshow\u001b[0m\u001b[1;33m(\u001b[0m\u001b[0mcoss\u001b[0m\u001b[1;33m[\u001b[0m\u001b[1;36m0\u001b[0m\u001b[1;33m]\u001b[0m\u001b[1;33m)\u001b[0m\u001b[1;33m\u001b[0m\u001b[0m\n\u001b[0m",
      "\u001b[1;31mIndexError\u001b[0m: list index out of range"
     ]
    }
   ],
   "source": [
    "plt.pyplot.imshow(coss[0])"
   ]
  },
  {
   "cell_type": "code",
   "execution_count": 3,
   "metadata": {},
   "outputs": [
    {
     "name": "stdout",
     "output_type": "stream",
     "text": [
      "True [[[255 255 255]\n",
      "  [255 255 255]\n",
      "  [255 255 255]\n",
      "  ...\n",
      "  [255 255 255]\n",
      "  [255 255 255]\n",
      "  [255 255 255]]\n",
      "\n",
      " [[255 255 255]\n",
      "  [255 255 255]\n",
      "  [255 255 255]\n",
      "  ...\n",
      "  [255 255 255]\n",
      "  [255 255 255]\n",
      "  [255 255 255]]\n",
      "\n",
      " [[255 255 255]\n",
      "  [255 255 255]\n",
      "  [255 255 255]\n",
      "  ...\n",
      "  [255 255 255]\n",
      "  [255 255 255]\n",
      "  [255 255 255]]\n",
      "\n",
      " ...\n",
      "\n",
      " [[255 255 255]\n",
      "  [255 255 255]\n",
      "  [255 255 255]\n",
      "  ...\n",
      "  [255 255 255]\n",
      "  [255 255 255]\n",
      "  [255 255 255]]\n",
      "\n",
      " [[255 255 255]\n",
      "  [255 255 255]\n",
      "  [255 255 255]\n",
      "  ...\n",
      "  [255 255 255]\n",
      "  [255 255 255]\n",
      "  [255 255 255]]\n",
      "\n",
      " [[255 255 255]\n",
      "  [255 255 255]\n",
      "  [255 255 255]\n",
      "  ...\n",
      "  [255 255 255]\n",
      "  [255 255 255]\n",
      "  [255 255 255]]]\n"
     ]
    },
    {
     "data": {
      "image/png": "[encoded data removed]",
      "text/plain": [
       "<matplotlib.figure.Figure at 0x1f32a570be0>"
      ]
     },
     "metadata": {},
     "output_type": "display_data"
    }
   ],
   "source": [
    "cap = cv2.VideoCapture(0)\n",
    "cap.set(10, 1)\n",
    "ret, fr = cap.read()\n",
    "print(ret, fr)\n",
    "plt.pyplot.imshow(fr)\n",
    "cap.release()"
   ]
  },
  {
   "cell_type": "code",
   "execution_count": 22,
   "metadata": {},
   "outputs": [
    {
     "data": {
      "text/plain": [
       "array([[ True,  True,  True],\n",
       "       [ True, False,  True],\n",
       "       [ True,  True,  True]])"
      ]
     },
     "execution_count": 22,
     "metadata": {},
     "output_type": "execute_result"
    }
   ],
   "source": [
    "mask = numpy.array([[True, True, True], [True, False, True], [True, True, True]])\n",
    "mask"
   ]
  }
 ],
 "metadata": {
  "kernelspec": {
   "display_name": "Python 3",
   "language": "python",
   "name": "python3"
  },
  "language_info": {
   "codemirror_mode": {
    "name": "ipython",
    "version": 3
   },
   "file_extension": ".py",
   "mimetype": "text/x-python",
   "name": "python",
   "nbconvert_exporter": "python",
   "pygments_lexer": "ipython3",
   "version": "3.6.2"
  }
 },
 "nbformat": 4,
 "nbformat_minor": 2
}
