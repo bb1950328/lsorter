{
 "cells": [
  {
   "cell_type": "code",
   "execution_count": 4,
   "metadata": {
    "collapsed": true
   },
   "outputs": [],
   "source": [
    "import PIL\n",
    "import numpy\n",
    "from PIL import Image"
   ]
  },
  {
   "cell_type": "code",
   "execution_count": 38,
   "metadata": {
    "collapsed": true
   },
   "outputs": [],
   "source": [
    "def filename_crop_array(filename, coords, show=False):\n",
    "    img = Image.open(filename)\n",
    "    img = img.crop(coords)\n",
    "    if show:\n",
    "        img.show()\n",
    "    return img.load()"
   ]
  },
  {
   "cell_type": "code",
   "execution_count": 18,
   "metadata": {
    "collapsed": true
   },
   "outputs": [],
   "source": [
    "pxa = filename_crop_array(\"IMG10.JPG\", (200, 100, 600, 500))"
   ]
  },
  {
   "cell_type": "code",
   "execution_count": 16,
   "metadata": {},
   "outputs": [
    {
     "data": {
      "text/plain": [
       "(189, 84, 89)"
      ]
     },
     "execution_count": 16,
     "metadata": {},
     "output_type": "execute_result"
    }
   ],
   "source": [
    "pxa[100, 100]#ein pinkes pixel"
   ]
  },
  {
   "cell_type": "code",
   "execution_count": 19,
   "metadata": {
    "collapsed": true
   },
   "outputs": [],
   "source": [
    "for x in range(399):\n",
    "    for y in range(399):\n",
    "        p = pxa[x, y]\n",
    "        if (180<= p[0] <= 200) and (75<= p[1] <= 95) and (80<= p[2] <= 100):\n",
    "            pxa[x, y] = (255, 255, 255)\n",
    "            "
   ]
  },
  {
   "cell_type": "code",
   "execution_count": 71,
   "metadata": {
    "collapsed": true
   },
   "outputs": [],
   "source": [
    "import matplotlib.pyplot\n",
    "%matplotlib inline\n",
    "import time"
   ]
  },
  {
   "cell_type": "code",
   "execution_count": 34,
   "metadata": {
    "collapsed": true
   },
   "outputs": [],
   "source": [
    "def array_to_img(arr, size):\n",
    "    img = Image.new(\"RGB\", size)\n",
    "    for x in range(size[0]):\n",
    "        for y in range(size[1]):\n",
    "            #print(arr[x, y])\n",
    "            img.putpixel((x, y), arr[x, y])\n",
    "    return(img)"
   ]
  },
  {
   "cell_type": "code",
   "execution_count": 62,
   "metadata": {
    "collapsed": true
   },
   "outputs": [],
   "source": [
    "def pxstats(img):#[anz_rot, anz_gruen, anz_blue]\n",
    "    stat = [0, 0, 0]\n",
    "    for x in range(img.size[0]):\n",
    "        for y in range(img.size[1]):\n",
    "            rgb = img.getpixel((x, y))\n",
    "            r = rgb[0]\n",
    "            g = rgb[1]\n",
    "            b = rgb[2]\n",
    "            if (r-20>= g) and (r-20>= b) and sum(rgb)>200:\n",
    "                stat[0] +=1\n",
    "            elif (g-20>= r) and (g-20>= b):\n",
    "                stat[1] +=1\n",
    "            elif (b-20>= r) and (b-20>= g):\n",
    "                stat[2] +=1\n",
    "    return stat\n",
    "\n",
    "def pxstats_str(img):\n",
    "    stat = pxstats(img)\n",
    "    r = stat[0]\n",
    "    g = stat[1]\n",
    "    b = stat[2]\n",
    "    if r>g and r>b:\n",
    "        return \"Red\"\n",
    "    elif g>r and g>b:\n",
    "        return \"Green\"\n",
    "    else:\n",
    "        return \"Blue\"\n",
    "\n",
    "def pxshowrgb(img):\n",
    "    img = img.copy()\n",
    "    for x in range(img.size[0]):\n",
    "        for y in range(img.size[1]):\n",
    "            rgb = img.getpixel((x, y))\n",
    "            r = rgb[0]\n",
    "            g = rgb[1]\n",
    "            b = rgb[2]\n",
    "            if (r-20>= g) and (r-20>= b) and sum(rgb)>200:\n",
    "                img.putpixel((x, y), (255, 0, 0))\n",
    "            elif (g-20>= r) and (g-20>= b):\n",
    "                img.putpixel((x, y), (0, 255, 0))\n",
    "            elif (b-20>= r) and (b-20>= g):\n",
    "                img.putpixel((x, y), (0, 0, 255))\n",
    "    return img"
   ]
  },
  {
   "cell_type": "code",
   "execution_count": 84,
   "metadata": {
    "collapsed": true
   },
   "outputs": [],
   "source": [
    "def clean_analyse_img(filename):\n",
    "    pxa = filename_crop_array(filename, (200, 100, 600, 500))\n",
    "    cnt=0\n",
    "    #for x in range(399):\n",
    "    #    for y in range(399):\n",
    "    #        p = pxa[x, y]\n",
    "    #        if (170<= p[0] <= 210) and (60<= p[1] <= 95) and (70<= p[2] <= 100):\n",
    "    #            pxa[x, y] = (255, 255, 255)\n",
    "    #            cnt+=1\n",
    "    ni = array_to_img(pxa, (400, 400))\n",
    "    #ni = Image.fromarray(pxa)\n",
    "    #ni.show()\n",
    "    print(filename, \":\", cnt, \"Pixels replaced. Main color is:\", pxstats_str(ni))\n",
    "    #return ni\n",
    "    return "
   ]
  },
  {
   "cell_type": "code",
   "execution_count": 56,
   "metadata": {
    "collapsed": true
   },
   "outputs": [],
   "source": [
    "pxshowrgb(ni).show()"
   ]
  },
  {
   "cell_type": "code",
   "execution_count": 55,
   "metadata": {},
   "outputs": [
    {
     "data": {
      "text/plain": [
       "[1613, 2297, 0]"
      ]
     },
     "execution_count": 55,
     "metadata": {},
     "output_type": "execute_result"
    }
   ],
   "source": [
    "pxstats(ni)"
   ]
  },
  {
   "cell_type": "code",
   "execution_count": 83,
   "metadata": {},
   "outputs": [
    {
     "ename": "AttributeError",
     "evalue": "'PixelAccess' object has no attribute '__array_interface__'",
     "output_type": "error",
     "traceback": [
      "\u001b[1;31m---------------------------------------------------------------------------\u001b[0m",
      "\u001b[1;31mAttributeError\u001b[0m                            Traceback (most recent call last)",
      "\u001b[1;32m<ipython-input-83-29a56b790f23>\u001b[0m in \u001b[0;36m<module>\u001b[1;34m()\u001b[0m\n\u001b[0;32m      2\u001b[0m \u001b[1;32mfor\u001b[0m \u001b[0mi\u001b[0m \u001b[1;32min\u001b[0m \u001b[0mrange\u001b[0m\u001b[1;33m(\u001b[0m\u001b[1;36m10\u001b[0m\u001b[1;33m,\u001b[0m \u001b[1;36m45\u001b[0m\u001b[1;33m)\u001b[0m\u001b[1;33m:\u001b[0m\u001b[1;33m\u001b[0m\u001b[0m\n\u001b[0;32m      3\u001b[0m     \u001b[0mfn\u001b[0m \u001b[1;33m=\u001b[0m \u001b[1;34m\"DSC\"\u001b[0m\u001b[1;33m+\u001b[0m\u001b[0mstr\u001b[0m\u001b[1;33m(\u001b[0m\u001b[0mi\u001b[0m\u001b[1;33m)\u001b[0m\u001b[1;33m+\u001b[0m\u001b[1;34m\".JPG\"\u001b[0m\u001b[1;33m\u001b[0m\u001b[0m\n\u001b[1;32m----> 4\u001b[1;33m     \u001b[0mclean_analyse_img\u001b[0m\u001b[1;33m(\u001b[0m\u001b[0mfn\u001b[0m\u001b[1;33m)\u001b[0m\u001b[1;33m\u001b[0m\u001b[0m\n\u001b[0m\u001b[0;32m      5\u001b[0m \u001b[0mstop\u001b[0m \u001b[1;33m=\u001b[0m \u001b[0mtime\u001b[0m\u001b[1;33m.\u001b[0m\u001b[0mperf_counter\u001b[0m\u001b[1;33m(\u001b[0m\u001b[1;33m)\u001b[0m\u001b[1;33m\u001b[0m\u001b[0m\n\u001b[0;32m      6\u001b[0m \u001b[0mprint\u001b[0m\u001b[1;33m(\u001b[0m\u001b[1;33m(\u001b[0m\u001b[0mstop\u001b[0m\u001b[1;33m-\u001b[0m\u001b[0mstart\u001b[0m\u001b[1;33m)\u001b[0m\u001b[1;33m/\u001b[0m\u001b[1;36m35\u001b[0m\u001b[1;33m)\u001b[0m\u001b[1;33m\u001b[0m\u001b[0m\n",
      "\u001b[1;32m<ipython-input-82-62b06df17bff>\u001b[0m in \u001b[0;36mclean_analyse_img\u001b[1;34m(filename)\u001b[0m\n\u001b[0;32m      9\u001b[0m     \u001b[1;31m#            cnt+=1\u001b[0m\u001b[1;33m\u001b[0m\u001b[1;33m\u001b[0m\u001b[0m\n\u001b[0;32m     10\u001b[0m     \u001b[1;31m#ni = array_to_img(pxa, (400, 400))\u001b[0m\u001b[1;33m\u001b[0m\u001b[1;33m\u001b[0m\u001b[0m\n\u001b[1;32m---> 11\u001b[1;33m     \u001b[0mni\u001b[0m \u001b[1;33m=\u001b[0m \u001b[0mImage\u001b[0m\u001b[1;33m.\u001b[0m\u001b[0mfromarray\u001b[0m\u001b[1;33m(\u001b[0m\u001b[0mpxa\u001b[0m\u001b[1;33m)\u001b[0m\u001b[1;33m\u001b[0m\u001b[0m\n\u001b[0m\u001b[0;32m     12\u001b[0m     \u001b[1;31m#ni.show()\u001b[0m\u001b[1;33m\u001b[0m\u001b[1;33m\u001b[0m\u001b[0m\n\u001b[0;32m     13\u001b[0m     \u001b[0mprint\u001b[0m\u001b[1;33m(\u001b[0m\u001b[0mfilename\u001b[0m\u001b[1;33m,\u001b[0m \u001b[1;34m\":\"\u001b[0m\u001b[1;33m,\u001b[0m \u001b[0mcnt\u001b[0m\u001b[1;33m,\u001b[0m \u001b[1;34m\"Pixels replaced. Main color is:\"\u001b[0m\u001b[1;33m,\u001b[0m \u001b[0mpxstats_str\u001b[0m\u001b[1;33m(\u001b[0m\u001b[0mni\u001b[0m\u001b[1;33m)\u001b[0m\u001b[1;33m)\u001b[0m\u001b[1;33m\u001b[0m\u001b[0m\n",
      "\u001b[1;32mC:\\ProgramData\\Anaconda3\\lib\\site-packages\\PIL\\Image.py\u001b[0m in \u001b[0;36mfromarray\u001b[1;34m(obj, mode)\u001b[0m\n\u001b[0;32m   2349\u001b[0m     \u001b[1;33m.\u001b[0m\u001b[1;33m.\u001b[0m \u001b[0mversionadded\u001b[0m\u001b[1;33m:\u001b[0m\u001b[1;33m:\u001b[0m \u001b[1;36m1.1\u001b[0m\u001b[1;36m.6\u001b[0m\u001b[1;33m\u001b[0m\u001b[0m\n\u001b[0;32m   2350\u001b[0m     \"\"\"\n\u001b[1;32m-> 2351\u001b[1;33m     \u001b[0marr\u001b[0m \u001b[1;33m=\u001b[0m \u001b[0mobj\u001b[0m\u001b[1;33m.\u001b[0m\u001b[0m__array_interface__\u001b[0m\u001b[1;33m\u001b[0m\u001b[0m\n\u001b[0m\u001b[0;32m   2352\u001b[0m     \u001b[0mshape\u001b[0m \u001b[1;33m=\u001b[0m \u001b[0marr\u001b[0m\u001b[1;33m[\u001b[0m\u001b[1;34m'shape'\u001b[0m\u001b[1;33m]\u001b[0m\u001b[1;33m\u001b[0m\u001b[0m\n\u001b[0;32m   2353\u001b[0m     \u001b[0mndim\u001b[0m \u001b[1;33m=\u001b[0m \u001b[0mlen\u001b[0m\u001b[1;33m(\u001b[0m\u001b[0mshape\u001b[0m\u001b[1;33m)\u001b[0m\u001b[1;33m\u001b[0m\u001b[0m\n",
      "\u001b[1;31mAttributeError\u001b[0m: 'PixelAccess' object has no attribute '__array_interface__'"
     ]
    }
   ],
   "source": [
    "start = time.perf_counter()\n",
    "for i in range(10, 45):\n",
    "    fn = \"DSC\"+str(i)+\".JPG\"\n",
    "    clean_analyse_img(fn)\n",
    "stop = time.perf_counter()\n",
    "print((stop-start)/35)"
   ]
  },
  {
   "cell_type": "code",
   "execution_count": null,
   "metadata": {
    "collapsed": true
   },
   "outputs": [],
   "source": []
  }
 ],
 "metadata": {
  "kernelspec": {
   "display_name": "Python 3",
   "language": "python",
   "name": "python3"
  },
  "language_info": {
   "codemirror_mode": {
    "name": "ipython",
    "version": 3
   },
   "file_extension": ".py",
   "mimetype": "text/x-python",
   "name": "python",
   "nbconvert_exporter": "python",
   "pygments_lexer": "ipython3",
   "version": "3.6.2"
  }
 },
 "nbformat": 4,
 "nbformat_minor": 2
}
