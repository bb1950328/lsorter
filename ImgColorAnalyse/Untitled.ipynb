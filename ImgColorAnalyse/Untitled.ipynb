{
 "cells": [
  {
   "cell_type": "code",
   "execution_count": 1,
   "metadata": {},
   "outputs": [],
   "source": [
    "import PIL\n",
    "import numpy\n",
    "from PIL import Image"
   ]
  },
  {
   "cell_type": "code",
   "execution_count": 2,
   "metadata": {},
   "outputs": [],
   "source": [
    "def filename_crop_array(filename, coords, show=False):\n",
    "    img = Image.open(filename)\n",
    "    img = img.crop(coords)\n",
    "    if show:\n",
    "        img.show()\n",
    "    return img.load()"
   ]
  },
  {
   "cell_type": "code",
   "execution_count": 3,
   "metadata": {},
   "outputs": [],
   "source": [
    "pxa = filename_crop_array(\"IMG10.JPG\", (200, 100, 600, 500))"
   ]
  },
  {
   "cell_type": "code",
   "execution_count": 4,
   "metadata": {},
   "outputs": [
    {
     "data": {
      "text/plain": [
       "(189, 84, 89)"
      ]
     },
     "execution_count": 4,
     "metadata": {},
     "output_type": "execute_result"
    }
   ],
   "source": [
    "pxa[100, 100]#ein pinkes pixel"
   ]
  },
  {
   "cell_type": "code",
   "execution_count": 5,
   "metadata": {},
   "outputs": [],
   "source": [
    "for x in range(399):\n",
    "    for y in range(399):\n",
    "        p = pxa[x, y]\n",
    "        if (180<= p[0] <= 200) and (75<= p[1] <= 95) and (80<= p[2] <= 100):\n",
    "            pxa[x, y] = (255, 255, 255)\n",
    "            "
   ]
  },
  {
   "cell_type": "code",
   "execution_count": 6,
   "metadata": {},
   "outputs": [],
   "source": [
    "import matplotlib.pyplot\n",
    "%matplotlib inline\n",
    "import time"
   ]
  },
  {
   "cell_type": "code",
   "execution_count": 7,
   "metadata": {},
   "outputs": [],
   "source": [
    "def array_to_img(arr, size):\n",
    "    img = Image.new(\"RGB\", size)\n",
    "    for x in range(size[0]):\n",
    "        for y in range(size[1]):\n",
    "            #print(arr[x, y])\n",
    "            img.putpixel((x, y), arr[x, y])\n",
    "    return(img)"
   ]
  },
  {
   "cell_type": "code",
   "execution_count": 30,
   "metadata": {},
   "outputs": [],
   "source": [
    "def clean_analyse_img(filename):\n",
    "    #pxa = filename_crop_array(filename, (200, 100, 600, 500))\n",
    "    img = Image.open(filename)\n",
    "    cnt=0\n",
    "    #for x in range(399):\n",
    "    #    for y in range(399):\n",
    "    #        p = pxa[x, y]\n",
    "    #        if (170<= p[0] <= 210) and (60<= p[1] <= 95) and (70<= p[2] <= 100):\n",
    "    #            pxa[x, y] = (255, 255, 255)\n",
    "    #            cnt+=1\n",
    "    #ni = array_to_img(pxa, (400, 400))\n",
    "    #ni = Image.fromarray(pxa)\n",
    "    #ni.show()\n",
    "    print(filename, \":\", cnt, \"Pixels replaced. Main color is:\", pxstats_str(img))\n",
    "    #return ni\n",
    "    return "
   ]
  },
  {
   "cell_type": "code",
   "execution_count": 10,
   "metadata": {},
   "outputs": [
    {
     "ename": "NameError",
     "evalue": "name 'ni' is not defined",
     "output_type": "error",
     "traceback": [
      "\u001b[0;31m---------------------------------------------------------------------------\u001b[0m",
      "\u001b[0;31mNameError\u001b[0m                                 Traceback (most recent call last)",
      "\u001b[0;32m<ipython-input-10-e3da4491f391>\u001b[0m in \u001b[0;36m<module>\u001b[0;34m()\u001b[0m\n\u001b[0;32m----> 1\u001b[0;31m \u001b[0mpxshowrgb\u001b[0m\u001b[0;34m(\u001b[0m\u001b[0mni\u001b[0m\u001b[0;34m)\u001b[0m\u001b[0;34m.\u001b[0m\u001b[0mshow\u001b[0m\u001b[0;34m(\u001b[0m\u001b[0;34m)\u001b[0m\u001b[0;34m\u001b[0m\u001b[0m\n\u001b[0m",
      "\u001b[0;31mNameError\u001b[0m: name 'ni' is not defined"
     ]
    }
   ],
   "source": [
    "pxshowrgb(ni).show()"
   ]
  },
  {
   "cell_type": "code",
   "execution_count": null,
   "metadata": {},
   "outputs": [],
   "source": [
    "pxstats(ni)"
   ]
  },
  {
   "cell_type": "code",
   "execution_count": 74,
   "metadata": {},
   "outputs": [],
   "source": [
    "def pxstats(img):#[anz_rot, anz_gruen, anz_blue]\n",
    "    stat = [0, 0, 0]\n",
    "    for x in range(img.size[0]):\n",
    "        for y in range(img.size[1]):\n",
    "            rgb = img.getpixel((x, y))\n",
    "            r = rgb[0]\n",
    "            g = rgb[1]\n",
    "            b = rgb[2]\n",
    "            if (r-20>= g) and (r-20>= b) and sum(rgb)>200:\n",
    "                stat[0] +=1\n",
    "            elif (g-20>= r) and (g-20>= b):\n",
    "                stat[1] +=1\n",
    "            elif (b-20>= r) and (b-20>= g):\n",
    "                stat[2] +=1\n",
    "    return stat\n",
    "\n",
    "def pxstats2(img):#[anz_rot, anz_gruen, anz_blue]\n",
    "    stat = [0, 0, 0]\n",
    "    bt = 30\n",
    "    for x in range(0, 800, 4):\n",
    "        for y in range(0, 600, 4):\n",
    "            #print(img.size)\n",
    "            #print((400-x, 300-y))\n",
    "            rgb = img.getpixel((x, y))\n",
    "            r = rgb[0]\n",
    "            g = rgb[1]\n",
    "            b = rgb[2]\n",
    "            if (r-bt>= g) and (r-bt>= b):# and sum(rgb)>200:\n",
    "                stat[0] +=1\n",
    "            elif (g-bt>= r) and (g-bt>= b):\n",
    "                stat[1] +=1\n",
    "            elif (b-bt>= r) and (b-bt>= g):\n",
    "                stat[2] +=1\n",
    "            #check if the color is already clear:\n",
    "            tr = 500\n",
    "            if stat[0]-tr>stat[1] and stat[0]-tr>stat[2]:\n",
    "                print(\"Early stop\")\n",
    "                return [1, 0, 0]\n",
    "            elif stat[1]-tr>stat[0] and stat[1]-tr>stat[2]:\n",
    "                print(\"Early stop\")\n",
    "                return [0, 1, 0]\n",
    "            elif stat[2]-tr>stat[0] and stat[2]-tr>stat[1]:\n",
    "                print(\"Early stop\")\n",
    "                return [0, 0, 1]\n",
    "    return stat\n",
    "\n",
    "def pxstats_str(img):\n",
    "    stat = pxstats2(img)\n",
    "    print(stat)\n",
    "    r = stat[0]\n",
    "    g = stat[1]\n",
    "    b = stat[2]\n",
    "    if r>g and r>b:\n",
    "        return \"Red\"\n",
    "    elif g>r and g>b:\n",
    "        return \"Green\"\n",
    "    else:\n",
    "        return \"Blue\"\n",
    "\n",
    "def pxshowrgb(img):\n",
    "    img = img.copy()\n",
    "    for x in range(img.size[0]):\n",
    "        for y in range(img.size[1]):\n",
    "            rgb = img.getpixel((x, y))\n",
    "            r = rgb[0]\n",
    "            g = rgb[1]\n",
    "            b = rgb[2]\n",
    "            if (r-20>= g) and (r-20>= b) and sum(rgb)>200:\n",
    "                img.putpixel((x, y), (255, 0, 0))\n",
    "            elif (g-20>= r) and (g-20>= b):\n",
    "                img.putpixel((x, y), (0, 255, 0))\n",
    "            elif (b-20>= r) and (b-20>= g):\n",
    "                img.putpixel((x, y), (0, 0, 255))\n",
    "    return img"
   ]
  },
  {
   "cell_type": "code",
   "execution_count": 75,
   "metadata": {},
   "outputs": [
    {
     "name": "stdout",
     "output_type": "stream",
     "text": [
      "Early stop\n",
      "[1, 0, 0]\n",
      "DSC10.JPG : 0 Pixels replaced. Main color is: Red\n",
      "Early stop\n",
      "[1, 0, 0]\n",
      "DSC11.JPG : 0 Pixels replaced. Main color is: Red\n",
      "Early stop\n",
      "[1, 0, 0]\n",
      "DSC12.JPG : 0 Pixels replaced. Main color is: Red\n",
      "Early stop\n",
      "[1, 0, 0]\n",
      "DSC13.JPG : 0 Pixels replaced. Main color is: Red\n",
      "Early stop\n",
      "[1, 0, 0]\n",
      "DSC14.JPG : 0 Pixels replaced. Main color is: Red\n",
      "Early stop\n",
      "[1, 0, 0]\n",
      "DSC15.JPG : 0 Pixels replaced. Main color is: Red\n",
      "Early stop\n",
      "[1, 0, 0]\n",
      "DSC16.JPG : 0 Pixels replaced. Main color is: Red\n",
      "Early stop\n",
      "[1, 0, 0]\n",
      "DSC17.JPG : 0 Pixels replaced. Main color is: Red\n",
      "Early stop\n",
      "[1, 0, 0]\n",
      "DSC18.JPG : 0 Pixels replaced. Main color is: Red\n",
      "Early stop\n",
      "[1, 0, 0]\n",
      "DSC19.JPG : 0 Pixels replaced. Main color is: Red\n",
      "Early stop\n",
      "[1, 0, 0]\n",
      "DSC20.JPG : 0 Pixels replaced. Main color is: Red\n",
      "Early stop\n",
      "[0, 0, 1]\n",
      "DSC21.JPG : 0 Pixels replaced. Main color is: Blue\n",
      "Early stop\n",
      "[0, 0, 1]\n",
      "DSC22.JPG : 0 Pixels replaced. Main color is: Blue\n",
      "Early stop\n",
      "[0, 0, 1]\n",
      "DSC23.JPG : 0 Pixels replaced. Main color is: Blue\n",
      "Early stop\n",
      "[0, 0, 1]\n",
      "DSC24.JPG : 0 Pixels replaced. Main color is: Blue\n",
      "Early stop\n",
      "[0, 0, 1]\n",
      "DSC25.JPG : 0 Pixels replaced. Main color is: Blue\n",
      "[0, 0, 410]\n",
      "DSC26.JPG : 0 Pixels replaced. Main color is: Blue\n",
      "[0, 0, 385]\n",
      "DSC27.JPG : 0 Pixels replaced. Main color is: Blue\n",
      "Early stop\n",
      "[0, 0, 1]\n",
      "DSC28.JPG : 0 Pixels replaced. Main color is: Blue\n",
      "Early stop\n",
      "[0, 0, 1]\n",
      "DSC29.JPG : 0 Pixels replaced. Main color is: Blue\n",
      "Early stop\n",
      "[0, 0, 1]\n",
      "DSC30.JPG : 0 Pixels replaced. Main color is: Blue\n",
      "[0, 0, 383]\n",
      "DSC31.JPG : 0 Pixels replaced. Main color is: Blue\n",
      "[0, 435, 0]\n",
      "DSC32.JPG : 0 Pixels replaced. Main color is: Green\n",
      "[0, 456, 0]\n",
      "DSC33.JPG : 0 Pixels replaced. Main color is: Green\n",
      "[0, 309, 0]\n",
      "DSC34.JPG : 0 Pixels replaced. Main color is: Green\n",
      "[0, 84, 0]\n",
      "DSC35.JPG : 0 Pixels replaced. Main color is: Green\n",
      "[0, 174, 0]\n",
      "DSC36.JPG : 0 Pixels replaced. Main color is: Green\n",
      "[0, 163, 0]\n",
      "DSC37.JPG : 0 Pixels replaced. Main color is: Green\n",
      "[0, 354, 0]\n",
      "DSC38.JPG : 0 Pixels replaced. Main color is: Green\n",
      "[0, 431, 0]\n",
      "DSC39.JPG : 0 Pixels replaced. Main color is: Green\n",
      "[0, 431, 0]\n",
      "DSC40.JPG : 0 Pixels replaced. Main color is: Green\n",
      "[0, 337, 0]\n",
      "DSC41.JPG : 0 Pixels replaced. Main color is: Green\n",
      "[0, 458, 0]\n",
      "DSC42.JPG : 0 Pixels replaced. Main color is: Green\n",
      "Early stop\n",
      "[0, 1, 0]\n",
      "DSC43.JPG : 0 Pixels replaced. Main color is: Green\n",
      "[0, 336, 0]\n",
      "DSC44.JPG : 0 Pixels replaced. Main color is: Green\n",
      "0.395199529828564\n"
     ]
    }
   ],
   "source": [
    "start = time.perf_counter()\n",
    "for i in range(10, 45):\n",
    "    fn = \"DSC\"+str(i)+\".JPG\"\n",
    "    clean_analyse_img(fn)\n",
    "stop = time.perf_counter()\n",
    "print((stop-start)/35)"
   ]
  },
  {
   "cell_type": "code",
   "execution_count": null,
   "metadata": {},
   "outputs": [],
   "source": []
  }
 ],
 "metadata": {
  "kernelspec": {
   "display_name": "Python 3",
   "language": "python",
   "name": "python3"
  },
  "language_info": {
   "codemirror_mode": {
    "name": "ipython",
    "version": 3
   },
   "file_extension": ".py",
   "mimetype": "text/x-python",
   "name": "python",
   "nbconvert_exporter": "python",
   "pygments_lexer": "ipython3",
   "version": "3.6.4"
  }
 },
 "nbformat": 4,
 "nbformat_minor": 2
}
