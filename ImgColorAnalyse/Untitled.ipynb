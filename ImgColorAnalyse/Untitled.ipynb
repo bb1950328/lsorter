{
 "cells": [
  {
   "cell_type": "code",
   "execution_count": 5,
   "metadata": {
    "collapsed": true
   },
   "outputs": [],
   "source": [
    "import PIL\n",
    "import numpy\n",
    "from PIL import Image"
   ]
  },
  {
   "cell_type": "code",
   "execution_count": 6,
   "metadata": {
    "collapsed": true
   },
   "outputs": [],
   "source": [
    "def filename_crop_array(filename, coords, show=False):\n",
    "    img = Image.open(filename)\n",
    "    img = img.crop(coords)\n",
    "    if show:\n",
    "        img.show()\n",
    "    return img.load()"
   ]
  },
  {
   "cell_type": "code",
   "execution_count": 7,
   "metadata": {
    "collapsed": true
   },
   "outputs": [],
   "source": [
    "pxa = filename_crop_array(\"IMG10.JPG\", (200, 100, 600, 500))"
   ]
  },
  {
   "cell_type": "code",
   "execution_count": 8,
   "metadata": {},
   "outputs": [
    {
     "data": {
      "text/plain": [
       "(189, 84, 89)"
      ]
     },
     "execution_count": 8,
     "metadata": {},
     "output_type": "execute_result"
    }
   ],
   "source": [
    "pxa[100, 100]#ein pinkes pixel"
   ]
  },
  {
   "cell_type": "code",
   "execution_count": 9,
   "metadata": {
    "collapsed": true
   },
   "outputs": [],
   "source": [
    "for x in range(399):\n",
    "    for y in range(399):\n",
    "        p = pxa[x, y]\n",
    "        if (180<= p[0] <= 200) and (75<= p[1] <= 95) and (80<= p[2] <= 100):\n",
    "            pxa[x, y] = (255, 255, 255)\n",
    "            "
   ]
  },
  {
   "cell_type": "code",
   "execution_count": 10,
   "metadata": {
    "collapsed": true
   },
   "outputs": [],
   "source": [
    "import matplotlib.pyplot\n",
    "%matplotlib inline\n",
    "import time"
   ]
  },
  {
   "cell_type": "code",
   "execution_count": 11,
   "metadata": {
    "collapsed": true
   },
   "outputs": [],
   "source": [
    "def array_to_img(arr, size):\n",
    "    img = Image.new(\"RGB\", size)\n",
    "    for x in range(size[0]):\n",
    "        for y in range(size[1]):\n",
    "            #print(arr[x, y])\n",
    "            img.putpixel((x, y), arr[x, y])\n",
    "    return(img)"
   ]
  },
  {
   "cell_type": "code",
   "execution_count": 25,
   "metadata": {
    "collapsed": true
   },
   "outputs": [],
   "source": [
    "def pxstats(img):#[anz_rot, anz_gruen, anz_blue]\n",
    "    stat = [0, 0, 0]\n",
    "    for x in range(0, img.size[0], 4):\n",
    "        for y in range(0, img.size[1], 4):\n",
    "            rgb = img.getpixel((x, y))\n",
    "            r = rgb[0]\n",
    "            g = rgb[1]\n",
    "            b = rgb[2]\n",
    "            if (r-20>= g) and (r-20>= b) and sum(rgb)>200:\n",
    "                stat[0] +=1\n",
    "            elif (g-20>= r) and (g-20>= b):\n",
    "                stat[1] +=1\n",
    "            elif (b-20>= r) and (b-20>= g):\n",
    "                stat[2] +=1\n",
    "        if sum(stat)>100:\n",
    "            return stat\n",
    "    return stat\n",
    "\n",
    "def pxstats2(img):\n",
    "    pix = numpy.array(img.getdata()).reshape(img.size[0], img.size[1], 3)\n",
    "    stat = [pix.sum(axis=0), sum(pix[::1]), sum(pix[::2])]\n",
    "    print(pix.sum(axis=0))\n",
    "    #print(stat)\n",
    "    return stat\n",
    "def pxstats_str(img):\n",
    "    stat = pxstats2(img)\n",
    "    r = stat[0]\n",
    "    g = stat[1]\n",
    "    b = stat[2]\n",
    "    if r>g and r>b:\n",
    "        return \"Red\"\n",
    "    elif g>r and g>b:\n",
    "        return \"Green\"\n",
    "    else:\n",
    "        return \"Blue\"\n",
    "\n",
    "def pxshowrgb(img):\n",
    "    img = img.copy()\n",
    "    for x in range(img.size[0]):\n",
    "        for y in range(img.size[1]):\n",
    "            rgb = img.getpixel((x, y))\n",
    "            r = rgb[0]\n",
    "            g = rgb[1]\n",
    "            b = rgb[2]\n",
    "            if (r-20>= g) and (r-20>= b) and sum(rgb)>200:\n",
    "                img.putpixel((x, y), (255, 0, 0))\n",
    "            elif (g-20>= r) and (g-20>= b):\n",
    "                img.putpixel((x, y), (0, 255, 0))\n",
    "            elif (b-20>= r) and (b-20>= g):\n",
    "                img.putpixel((x, y), (0, 0, 255))\n",
    "    return img"
   ]
  },
  {
   "cell_type": "code",
   "execution_count": 18,
   "metadata": {
    "collapsed": true
   },
   "outputs": [],
   "source": [
    "def clean_analyse_img(filename):\n",
    "    pxa = filename_crop_array(filename, (200, 100, 600, 500))\n",
    "    cnt=0\n",
    "    #for x in range(399):\n",
    "    #    for y in range(399):\n",
    "    #        p = pxa[x, y]\n",
    "    #        if (170<= p[0] <= 210) and (60<= p[1] <= 95) and (70<= p[2] <= 100):\n",
    "    #            pxa[x, y] = (255, 255, 255)\n",
    "    #            cnt+=1\n",
    "    ni = array_to_img(pxa, (400, 400))\n",
    "    #ni = Image.fromarray(pxa)\n",
    "    #ni.show()\n",
    "    print(filename, \"\\tMain color is:\", pxstats_str(ni))\n",
    "    #return ni\n",
    "    return "
   ]
  },
  {
   "cell_type": "code",
   "execution_count": 14,
   "metadata": {},
   "outputs": [
    {
     "ename": "NameError",
     "evalue": "name 'ni' is not defined",
     "output_type": "error",
     "traceback": [
      "\u001b[1;31m---------------------------------------------------------------------------\u001b[0m",
      "\u001b[1;31mNameError\u001b[0m                                 Traceback (most recent call last)",
      "\u001b[1;32m<ipython-input-14-8e7b3d749280>\u001b[0m in \u001b[0;36m<module>\u001b[1;34m()\u001b[0m\n\u001b[1;32m----> 1\u001b[1;33m \u001b[0mpxshowrgb\u001b[0m\u001b[1;33m(\u001b[0m\u001b[0mni\u001b[0m\u001b[1;33m)\u001b[0m\u001b[1;33m.\u001b[0m\u001b[0mshow\u001b[0m\u001b[1;33m(\u001b[0m\u001b[1;33m)\u001b[0m\u001b[1;33m\u001b[0m\u001b[0m\n\u001b[0m",
      "\u001b[1;31mNameError\u001b[0m: name 'ni' is not defined"
     ]
    }
   ],
   "source": [
    "pxshowrgb(ni).show()"
   ]
  },
  {
   "cell_type": "code",
   "execution_count": null,
   "metadata": {},
   "outputs": [],
   "source": [
    "pxstats(ni)"
   ]
  },
  {
   "cell_type": "code",
   "execution_count": 26,
   "metadata": {},
   "outputs": [
    {
     "name": "stdout",
     "output_type": "stream",
     "text": [
      "[[60678 63082 67538]\n",
      " [60646 63050 67506]\n",
      " [60636 63040 67496]\n",
      " ..., \n",
      " [56627 58018 62201]\n",
      " [56756 58158 62327]\n",
      " [56929 58338 62499]]\n"
     ]
    },
    {
     "ename": "ValueError",
     "evalue": "The truth value of an array with more than one element is ambiguous. Use a.any() or a.all()",
     "output_type": "error",
     "traceback": [
      "\u001b[1;31m---------------------------------------------------------------------------\u001b[0m",
      "\u001b[1;31mValueError\u001b[0m                                Traceback (most recent call last)",
      "\u001b[1;32m<ipython-input-26-29a56b790f23>\u001b[0m in \u001b[0;36m<module>\u001b[1;34m()\u001b[0m\n\u001b[0;32m      2\u001b[0m \u001b[1;32mfor\u001b[0m \u001b[0mi\u001b[0m \u001b[1;32min\u001b[0m \u001b[0mrange\u001b[0m\u001b[1;33m(\u001b[0m\u001b[1;36m10\u001b[0m\u001b[1;33m,\u001b[0m \u001b[1;36m45\u001b[0m\u001b[1;33m)\u001b[0m\u001b[1;33m:\u001b[0m\u001b[1;33m\u001b[0m\u001b[0m\n\u001b[0;32m      3\u001b[0m     \u001b[0mfn\u001b[0m \u001b[1;33m=\u001b[0m \u001b[1;34m\"DSC\"\u001b[0m\u001b[1;33m+\u001b[0m\u001b[0mstr\u001b[0m\u001b[1;33m(\u001b[0m\u001b[0mi\u001b[0m\u001b[1;33m)\u001b[0m\u001b[1;33m+\u001b[0m\u001b[1;34m\".JPG\"\u001b[0m\u001b[1;33m\u001b[0m\u001b[0m\n\u001b[1;32m----> 4\u001b[1;33m     \u001b[0mclean_analyse_img\u001b[0m\u001b[1;33m(\u001b[0m\u001b[0mfn\u001b[0m\u001b[1;33m)\u001b[0m\u001b[1;33m\u001b[0m\u001b[0m\n\u001b[0m\u001b[0;32m      5\u001b[0m \u001b[0mstop\u001b[0m \u001b[1;33m=\u001b[0m \u001b[0mtime\u001b[0m\u001b[1;33m.\u001b[0m\u001b[0mperf_counter\u001b[0m\u001b[1;33m(\u001b[0m\u001b[1;33m)\u001b[0m\u001b[1;33m\u001b[0m\u001b[0m\n\u001b[0;32m      6\u001b[0m \u001b[0mprint\u001b[0m\u001b[1;33m(\u001b[0m\u001b[1;33m(\u001b[0m\u001b[0mstop\u001b[0m\u001b[1;33m-\u001b[0m\u001b[0mstart\u001b[0m\u001b[1;33m)\u001b[0m\u001b[1;33m/\u001b[0m\u001b[1;36m35\u001b[0m\u001b[1;33m)\u001b[0m\u001b[1;33m\u001b[0m\u001b[0m\n",
      "\u001b[1;32m<ipython-input-18-5f961805ff65>\u001b[0m in \u001b[0;36mclean_analyse_img\u001b[1;34m(filename)\u001b[0m\n\u001b[0;32m     11\u001b[0m     \u001b[1;31m#ni = Image.fromarray(pxa)\u001b[0m\u001b[1;33m\u001b[0m\u001b[1;33m\u001b[0m\u001b[0m\n\u001b[0;32m     12\u001b[0m     \u001b[1;31m#ni.show()\u001b[0m\u001b[1;33m\u001b[0m\u001b[1;33m\u001b[0m\u001b[0m\n\u001b[1;32m---> 13\u001b[1;33m     \u001b[0mprint\u001b[0m\u001b[1;33m(\u001b[0m\u001b[0mfilename\u001b[0m\u001b[1;33m,\u001b[0m \u001b[1;34m\"\\tMain color is:\"\u001b[0m\u001b[1;33m,\u001b[0m \u001b[0mpxstats_str\u001b[0m\u001b[1;33m(\u001b[0m\u001b[0mni\u001b[0m\u001b[1;33m)\u001b[0m\u001b[1;33m)\u001b[0m\u001b[1;33m\u001b[0m\u001b[0m\n\u001b[0m\u001b[0;32m     14\u001b[0m     \u001b[1;31m#return ni\u001b[0m\u001b[1;33m\u001b[0m\u001b[1;33m\u001b[0m\u001b[0m\n\u001b[0;32m     15\u001b[0m     \u001b[1;32mreturn\u001b[0m\u001b[1;33m\u001b[0m\u001b[0m\n",
      "\u001b[1;32m<ipython-input-25-ae7fbc05fd9d>\u001b[0m in \u001b[0;36mpxstats_str\u001b[1;34m(img)\u001b[0m\n\u001b[0;32m     28\u001b[0m     \u001b[0mg\u001b[0m \u001b[1;33m=\u001b[0m \u001b[0mstat\u001b[0m\u001b[1;33m[\u001b[0m\u001b[1;36m1\u001b[0m\u001b[1;33m]\u001b[0m\u001b[1;33m\u001b[0m\u001b[0m\n\u001b[0;32m     29\u001b[0m     \u001b[0mb\u001b[0m \u001b[1;33m=\u001b[0m \u001b[0mstat\u001b[0m\u001b[1;33m[\u001b[0m\u001b[1;36m2\u001b[0m\u001b[1;33m]\u001b[0m\u001b[1;33m\u001b[0m\u001b[0m\n\u001b[1;32m---> 30\u001b[1;33m     \u001b[1;32mif\u001b[0m \u001b[0mr\u001b[0m\u001b[1;33m>\u001b[0m\u001b[0mg\u001b[0m \u001b[1;32mand\u001b[0m \u001b[0mr\u001b[0m\u001b[1;33m>\u001b[0m\u001b[0mb\u001b[0m\u001b[1;33m:\u001b[0m\u001b[1;33m\u001b[0m\u001b[0m\n\u001b[0m\u001b[0;32m     31\u001b[0m         \u001b[1;32mreturn\u001b[0m \u001b[1;34m\"Red\"\u001b[0m\u001b[1;33m\u001b[0m\u001b[0m\n\u001b[0;32m     32\u001b[0m     \u001b[1;32melif\u001b[0m \u001b[0mg\u001b[0m\u001b[1;33m>\u001b[0m\u001b[0mr\u001b[0m \u001b[1;32mand\u001b[0m \u001b[0mg\u001b[0m\u001b[1;33m>\u001b[0m\u001b[0mb\u001b[0m\u001b[1;33m:\u001b[0m\u001b[1;33m\u001b[0m\u001b[0m\n",
      "\u001b[1;31mValueError\u001b[0m: The truth value of an array with more than one element is ambiguous. Use a.any() or a.all()"
     ]
    }
   ],
   "source": [
    "start = time.perf_counter()\n",
    "for i in range(10, 45):\n",
    "    fn = \"DSC\"+str(i)+\".JPG\"\n",
    "    clean_analyse_img(fn)\n",
    "stop = time.perf_counter()\n",
    "print((stop-start)/35)"
   ]
  },
  {
   "cell_type": "code",
   "execution_count": null,
   "metadata": {
    "collapsed": true
   },
   "outputs": [],
   "source": []
  }
 ],
 "metadata": {
  "kernelspec": {
   "display_name": "Python 3",
   "language": "python",
   "name": "python3"
  },
  "language_info": {
   "codemirror_mode": {
    "name": "ipython",
    "version": 3
   },
   "file_extension": ".py",
   "mimetype": "text/x-python",
   "name": "python",
   "nbconvert_exporter": "python",
   "pygments_lexer": "ipython3",
   "version": "3.6.2"
  }
 },
 "nbformat": 4,
 "nbformat_minor": 2
}
