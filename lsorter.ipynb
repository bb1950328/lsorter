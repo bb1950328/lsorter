{
 "cells": [
  {
   "cell_type": "code",
   "execution_count": 9,
   "metadata": {
    "collapsed": true
   },
   "outputs": [],
   "source": [
    "class slideturner():\n",
    "    def __init__(self, num_boxes, min_servo=675, max_servo=2350):\n",
    "        self.num_boxes = num_boxes\n",
    "        self.min_servo, self.max_servo = min_servo, max_servo\n",
    "        if num_boxes < 1:\n",
    "            raise ValueError(\"You must init at least one box\")\n",
    "    def calc_pulse(self, box, verbose=True):#box is from 0 to self.num_boxes-1\n",
    "        angle = 180/self.num_boxes * (box+0.5)\n",
    "        pulse = (angle/180*(self.max_servo - self.min_servo)) + self.min_servo\n",
    "        if not verbose:\n",
    "            print(\"Angle:\", angle, \"\\nPulselength:\", pulse)\n",
    "        return pulse"
   ]
  },
  {
   "cell_type": "code",
   "execution_count": 11,
   "metadata": {},
   "outputs": [
    {
     "name": "stdout",
     "output_type": "stream",
     "text": [
      "Angle: 30.0 \n",
      "Pulselength: 954.1666666666666\n"
     ]
    },
    {
     "data": {
      "text/plain": [
       "954.1666666666666"
      ]
     },
     "execution_count": 11,
     "metadata": {},
     "output_type": "execute_result"
    }
   ],
   "source": [
    "st = slideturner(3)\n",
    "st.calc_pulse(0, verbose=False)"
   ]
  }
 ],
 "metadata": {
  "kernelspec": {
   "display_name": "Python 3",
   "language": "python",
   "name": "python3"
  },
  "language_info": {
   "codemirror_mode": {
    "name": "ipython",
    "version": 3
   },
   "file_extension": ".py",
   "mimetype": "text/x-python",
   "name": "python",
   "nbconvert_exporter": "python",
   "pygments_lexer": "ipython3",
   "version": "3.6.2"
  }
 },
 "nbformat": 4,
 "nbformat_minor": 2
}
