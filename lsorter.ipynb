{
 "cells": [
  {
   "cell_type": "code",
   "execution_count": 93,
   "metadata": {},
   "outputs": [
    {
     "name": "stdout",
     "output_type": "stream",
     "text": [
      "pigpio or RPi.GPIO can't be found.\n",
      "imported modules\n",
      "Initalised classes.\n"
     ]
    }
   ],
   "source": [
    "%run lsorter_lib.py"
   ]
  },
  {
   "cell_type": "code",
   "execution_count": 19,
   "metadata": {},
   "outputs": [
    {
     "name": "stdout",
     "output_type": "stream",
     "text": [
      "[would setup pin 4 to servo if there are pins]\n",
      "Angle: 30.0 \n",
      "Pulselength: 954.1666666666666\n"
     ]
    },
    {
     "data": {
      "text/plain": [
       "954.1666666666666"
      ]
     },
     "execution_count": 19,
     "metadata": {},
     "output_type": "execute_result"
    }
   ],
   "source": [
    "st = slideturner(3)\n",
    "st.calc_pulse(0, verbose=False)"
   ]
  },
  {
   "cell_type": "code",
   "execution_count": 94,
   "metadata": {},
   "outputs": [
    {
     "name": "stdout",
     "output_type": "stream",
     "text": [
      "[would setup pins [1, 3, 5, 7] to GPIO.out if there are pins]\n",
      "[would set pins [1, 3, 5, 7] to step 0 ([1, 1, 0, 0]) if there are pins]\n"
     ]
    }
   ],
   "source": [
    "st = unipolarstepper([1, 3, 5, 7])"
   ]
  },
  {
   "cell_type": "code",
   "execution_count": 77,
   "metadata": {},
   "outputs": [
    {
     "name": "stdout",
     "output_type": "stream",
     "text": [
      "st before: 1\n",
      "st after: 1\n",
      "[would set pins [1, 3, 5, 7] to step 1 ([0, 1, 1, 0]) if there are pins]\n"
     ]
    }
   ],
   "source": [
    "st.makestep(dir=False, verbose=False)"
   ]
  },
  {
   "cell_type": "code",
   "execution_count": 95,
   "metadata": {},
   "outputs": [
    {
     "name": "stdout",
     "output_type": "stream",
     "text": [
      "started d_drive_thread with rpm=-1, sleep=1 and drivepersleep=False\n",
      "[would set pins [1, 3, 5, 7] to step 1 ([0, 1, 1, 0]) if there are pins]\n",
      "[would set pins [1, 3, 5, 7] to step 2 ([0, 0, 1, 1]) if there are pins]\n",
      "[would set pins [1, 3, 5, 7] to step 3 ([1, 0, 0, 1]) if there are pins]\n",
      "[would set pins [1, 3, 5, 7] to step 0 ([1, 1, 0, 0]) if there are pins]\n",
      "[would set pins [1, 3, 5, 7] to step 1 ([0, 1, 1, 0]) if there are pins]\n",
      "[would set pins [1, 3, 5, 7] to step 2 ([0, 0, 1, 1]) if there are pins]\n",
      "[would set pins [1, 3, 5, 7] to step 3 ([1, 0, 0, 1]) if there are pins]\n"
     ]
    }
   ],
   "source": [
    "st.drive_rpm(-1)"
   ]
  },
  {
   "cell_type": "code",
   "execution_count": 96,
   "metadata": {},
   "outputs": [
    {
     "name": "stdout",
     "output_type": "stream",
     "text": [
      "[would set pins [1, 3, 5, 7] to step 0 ([1, 1, 0, 0]) if there are pins]\n"
     ]
    }
   ],
   "source": [
    "st.stop_driving()\n"
   ]
  }
 ],
 "metadata": {
  "kernelspec": {
   "display_name": "Python 3",
   "language": "python",
   "name": "python3"
  },
  "language_info": {
   "codemirror_mode": {
    "name": "ipython",
    "version": 3
   },
   "file_extension": ".py",
   "mimetype": "text/x-python",
   "name": "python",
   "nbconvert_exporter": "python",
   "pygments_lexer": "ipython3",
   "version": "3.6.4"
  }
 },
 "nbformat": 4,
 "nbformat_minor": 2
}
