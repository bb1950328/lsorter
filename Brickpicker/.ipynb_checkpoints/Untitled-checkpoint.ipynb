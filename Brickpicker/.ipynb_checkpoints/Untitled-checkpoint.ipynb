{
 "cells": [
  {
   "cell_type": "code",
   "execution_count": 24,
   "metadata": {},
   "outputs": [],
   "source": [
    "from tkinter import *\n",
    "#import ttk\n",
    "\n",
    "import csv\n",
    "import numpy as np\n",
    "with open('./library/parts_sorted.csv', 'r') as f:\n",
    "    reader = csv.reader(f)\n",
    "    partarray = np.array(list(reader))\n",
    "with open('./library/part_categories.csv', 'r') as f:\n",
    "    reader = csv.reader(f)\n",
    "    categoriesarray = np.array(list(reader))\n",
    "catstrs = []\n",
    "for i in range(1, 58):\n",
    "    catstrs.append(categoriesarray[i, 1])\n",
    "#print(catstrs)\n",
    "del categoriesarray\n",
    "\n",
    "root = Tk()\n",
    "\n",
    "tree = ttk.Treeview(root)\n",
    "\n",
    "tree[\"columns\"]=(\"num\")\n",
    "tree.column(\"num\", width=100)\n",
    "tree.heading(\"num\", text=\"ID\")\n",
    "i_part = 1\n",
    "i_cat = 1\n",
    "for cat in catstrs:\n",
    "    tree.insert(\"\", 3, cat, text=cat)\n",
    "    while int(partarray[i_part, 2]) == i_cat:\n",
    "        tree.insert(cat, 3, text=partarray[i_part, 1],values=(partarray[i_part, 0]))\n",
    "        i_part += 1\n",
    "        if i_part > 27614:\n",
    "            break\n",
    "    i_cat += 1\n",
    "\n",
    "#tree.insert(\"\" , 0,    text=\"Line 1\", values=(\"1A\",\"1b\"))\n",
    "\n",
    "#id2 = tree.insert(\"\", 1, \"dir2\", text=\"Dir 2\")\n",
    "#tree.insert(id2, \"end\", \"dir 2\", text=\"sub dir 2\", values=(\"2A\",\"2B\"))\n",
    "\n",
    "##alternatively:\n",
    "#tree.insert(\"\", 3, \"dir3\", text=\"Dir 3\")\n",
    "#tree.insert(\"dir3\", 3, text=\" sub dir 3\",values=(\"3A\",\" 3B\"))\n",
    "\n",
    "tree.pack(side = \"left\")\n",
    "root.mainloop()"
   ]
  },
  {
   "cell_type": "code",
   "execution_count": 15,
   "metadata": {},
   "outputs": [
    {
     "data": {
      "text/plain": [
       "array([['part_num', 'name', 'part_cat_id'],\n",
       "       ['0687b1', 'Set 0687 Activity Booklet 1', '17'],\n",
       "       ['0901', 'Baseplate 16 x 30 with Set 080 Yellow House Print', '1'],\n",
       "       ...,\n",
       "       ['zbb015', 'Znap Beam 3, 1 Hole', '43'],\n",
       "       ['zbb018', 'Znap Connector 3 x 3 - 4 way C (Closed)', '43'],\n",
       "       ['zbb022', 'Wheel 68mm Znap Propeller (9 x 2)', '29']],\n",
       "      dtype='<U223')"
      ]
     },
     "execution_count": 15,
     "metadata": {},
     "output_type": "execute_result"
    }
   ],
   "source": [
    "import csv\n",
    "import numpy as np\n",
    "with open('./library/parts.csv', 'r') as f:\n",
    "    reader = csv.reader(f)\n",
    "    your_list = np.array(list(reader))\n",
    "your_list"
   ]
  }
 ],
 "metadata": {
  "kernelspec": {
   "display_name": "Python 3",
   "language": "python",
   "name": "python3"
  },
  "language_info": {
   "codemirror_mode": {
    "name": "ipython",
    "version": 3
   },
   "file_extension": ".py",
   "mimetype": "text/x-python",
   "name": "python",
   "nbconvert_exporter": "python",
   "pygments_lexer": "ipython3",
   "version": "3.6.4"
  }
 },
 "nbformat": 4,
 "nbformat_minor": 2
}
